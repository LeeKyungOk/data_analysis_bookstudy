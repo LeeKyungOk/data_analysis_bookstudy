{
  "nbformat": 4,
  "nbformat_minor": 0,
  "metadata": {
    "colab": {
      "provenance": [],
      "toc_visible": true,
      "authorship_tag": "ABX9TyMtu+QkcDL3urzRtD5hVedp",
      "include_colab_link": true
    },
    "kernelspec": {
      "name": "python3",
      "display_name": "Python 3"
    },
    "language_info": {
      "name": "python"
    }
  },
  "cells": [
    {
      "cell_type": "markdown",
      "metadata": {
        "id": "view-in-github",
        "colab_type": "text"
      },
      "source": [
        "<a href=\"https://colab.research.google.com/github/LeeKyungOk/data_analysis_bookstudy/blob/main/chapter01.ipynb\" target=\"_parent\"><img src=\"https://colab.research.google.com/assets/colab-badge.svg\" alt=\"Open In Colab\"/></a>"
      ]
    },
    {
      "cell_type": "markdown",
      "source": [
        "# **01-1. 데이터 분석이란**"
      ],
      "metadata": {
        "id": "RICLiQa0cLDb"
      }
    },
    {
      "cell_type": "markdown",
      "source": [
        "## **데이터 마이닝과 머신러닝**\n",
        "데이터 마이닝과 머신러닝은 공유하는 영역이 많고, 데이터 분석과 데이터 과학만큼이나 명확하게 구분하기 어렵습니다. **데이터 마이닝**은 데이터에서 패턴 혹은 지식을 추축하는 작업을 말합니다. 머신러닝, 통계학, 데이터 베이스 시스템과 관련이 많습니다. 이러한 패턴과 지식은 사람이 의사 결정을 내리기 위해 활용 됨."
      ],
      "metadata": {
        "id": "nSy4vi-t2_QC"
      }
    },
    {
      "cell_type": "markdown",
      "source": [
        "## **[ Point ]**\n",
        "\n",
        "*   **데이터 분석**은 데이터를 수집, 처리, 정제, 분석, 모델링하여 의사결정을 내리는 데 도움을 주는 작업. 통계학과 머신러닝의 기술을 사용하고 비즈니스 문제를 해결하기 위해 도메인 지식이 필요합니다.\n",
        "*   **데이터 과학**은 테이터 분석, 머신러닝을 아우르는 개념입니다. 데이터 분석에 비해 머신러닝 모델을 만들어 문제를 해결하는 데 많은 비중을 둡니다.\n",
        "*   **파이썬**은 데이터 분석, 데이터 과학, 머신러닝 작업에 사용할 수 있는 인기 있는 프로그래밍 언어. 넘파이 , 판다스, 맷플롯립 등 데이터 분석에 필요한 다양한 패키지를 손쉽게 사용할 수 있습니다.\n",
        "\n",
        "\n"
      ],
      "metadata": {
        "id": "QuBXBWOzhtbc"
      }
    },
    {
      "cell_type": "markdown",
      "source": [
        "**학습에 필요한 핵심 패키지**\n",
        "\n",
        "*   넘파이 ( https://numpy.org )\n",
        "    : 과학 계산과 배열에 필요한 수학 패키지\n",
        "*   판다스 ( https://pandas.pydata.org )\n",
        "    : 숫자와 문자를 섞어 표처럼 사용할 수 있는 데이터 프레임을 제공\n",
        "*   맷플롯립 ( https://matplotilb.org )\n",
        "    : 동적, 정적 그래프를 만들 수 있는 시각화 패키지\n",
        "*   사이파이 ( https://docs.scipy.org/doc/scipy )\n",
        "    : 수학과 과학 계산 전문 패키지, 미적분, 선형대수 등을 포함\n",
        "*   사이킷런 ( https://scikit-learn.org )\n",
        "    : 파이썬에서 사용할 수 있는 대표적인 머신러닝 패키지\n",
        "\n"
      ],
      "metadata": {
        "id": "5aq19rpji9iw"
      }
    },
    {
      "cell_type": "markdown",
      "source": [
        "\n",
        "---\n",
        "\n"
      ],
      "metadata": {
        "id": "5QlPv85xVB_e"
      }
    },
    {
      "cell_type": "markdown",
      "source": [
        "# **01-2. 구글 코랩과 주피터 노트북**"
      ],
      "metadata": {
        "id": "6LHPoPuJzfGf"
      }
    },
    {
      "cell_type": "markdown",
      "source": [
        "## **[ Point ]**\n",
        "\n",
        "* **코랩**은 구글 계정을 가지고 있다면 누구나 사용할 수 있는 웹 브라우저 기반의 파이썬 코드 실행 환경입니다.\n",
        "* **노트북**은 코랩의 프로그램 작성 파일입니다. 일반 프로그램 파일과 달리 대화식으로 프로그램을 만들 수 있기 때문에 데이터 분석이나 교육에 매우 적합합니다. 노트북에는 코드, 코드 실행 결과, 문서를 모두 저장하여 보관할 수 있습니다.\n",
        "* **구글 드라이브**는 구글이 제공하는 클라우드 파일 저장 서비스입니다. 코랩에서 만든 노트북을 구국 드라이브의 'colab notebooks'폴더에 저장 할 수 있고 필요할 때 다시 코랩에서 열 수 있습니다.\n",
        "* **깃허브**는 분산 버전 관리 툴인 깃의 저장소를 호스팅하는 웹 서비스입니다. 코드 수정 이력을 버전별로 관리할 수 있고 여러 사람이 공동으로 작업하기 편리한 환경을 제공합니다.\n",
        "* **마크다운**은 Html과 같이 일반 텍스트로 서식있는 문서를 작성하는 데 사용합니다.\n",
        "\n"
      ],
      "metadata": {
        "id": "ZIzxl64Uzlvh"
      }
    },
    {
      "cell_type": "markdown",
      "source": [
        "## **Jupyter_notebook_이용법 ( 단축키 )**\n",
        "    \n",
        "    ## ctrl + m + a : 내 현재 셀 앞에 신규 셀 생성\n",
        "    ## ctrl + m + b : 내 현재 셀 뒤에 신규 셀 생성\n",
        "    ## ctrl + enter : 내 현재 셀 실행\n",
        "    ## shift + enter : 내 현재 셀을 실행하고 커서를 다음 셀로 이동\n",
        "    ## alt + enter : 내 현재 셀을 실행하고 다음셀을 신규 생성\n",
        "    ## ctrl + m + d : 현재 셀 삭제\n",
        "    ## ctrl + m + z : 삭제한 셀 되돌리기\n",
        "    ## ctrl + m + i : 실행중인 셀 실행 중지(interrupt)"
      ],
      "metadata": {
        "id": "1Oj4eDoH1BK6"
      }
    },
    {
      "cell_type": "markdown",
      "source": [
        "혼자공부하는 데이터 분석 소스 깃허브\n",
        "https://github.com/rickiepark/hg-da"
      ],
      "metadata": {
        "id": "2j2qa6pE2DYy"
      }
    },
    {
      "cell_type": "markdown",
      "source": [
        "\n",
        "\n",
        "---\n",
        "\n"
      ],
      "metadata": {
        "id": "zKximzR5U_eB"
      }
    },
    {
      "cell_type": "markdown",
      "source": [
        "# **01-3. 이 도서가 얼마나 인기가 좋을까요?**"
      ],
      "metadata": {
        "id": "6gVZDflE4pz-"
      }
    },
    {
      "cell_type": "markdown",
      "source": [
        "## **코랩에서  데이터 확인하기**"
      ],
      "metadata": {
        "id": "ZuRVvCra58P-"
      }
    },
    {
      "cell_type": "markdown",
      "source": [
        "### **(1) 코랩에 데이터 다운로드하기 : gdown 패키지**\n",
        "\n",
        "\n",
        "*  **gdown** 패키지 : 구글 드라이브를 포함하여 웹에서 대용량 파일을 다운로드 할 수 있는 패키지입니다. ( 코랩에  이미 설치되어 있음 )\n",
        "*   **openpyxl / xlsxwriter / read_excel()** 패키지 : 파이썬에서 엑셀 파일을 쓸 수 있도록 도와주는 패키지입니다.\n",
        "\n"
      ],
      "metadata": {
        "id": "myiVrc-F6Fal"
      }
    },
    {
      "cell_type": "code",
      "source": [
        "import gdown\n",
        "gdown.download('https://bit.ly/3eecMKZ','남산도서관 장서 대출목록 (2021년 04월).csv', quiet=False)"
      ],
      "metadata": {
        "colab": {
          "base_uri": "https://localhost:8080/",
          "height": 109
        },
        "id": "CXJx5L9S6f8W",
        "outputId": "5214526d-b3dd-4d92-accb-a173b493b970"
      },
      "execution_count": 1,
      "outputs": [
        {
          "output_type": "stream",
          "name": "stderr",
          "text": [
            "Downloading...\n",
            "From: https://bit.ly/3eecMKZ\n",
            "To: /content/남산도서관 장서 대출목록 (2021년 04월).csv\n",
            "100%|██████████| 58.1M/58.1M [00:01<00:00, 56.5MB/s]\n"
          ]
        },
        {
          "output_type": "execute_result",
          "data": {
            "text/plain": [
              "'남산도서관 장서 대출목록 (2021년 04월).csv'"
            ],
            "application/vnd.google.colaboratory.intrinsic+json": {
              "type": "string"
            }
          },
          "metadata": {},
          "execution_count": 1
        }
      ]
    },
    {
      "cell_type": "markdown",
      "source": [
        "## **파이썬으로 CSV 파일 출력하기**"
      ],
      "metadata": {
        "id": "NW7YR_HY-x-d"
      }
    },
    {
      "cell_type": "code",
      "source": [
        "with open('남산도서관 장서 대출목록 (2021년 04월).csv') as f:\n",
        "  print(f.readline())"
      ],
      "metadata": {
        "colab": {
          "base_uri": "https://localhost:8080/",
          "height": 202
        },
        "id": "hZj2ez0k6COH",
        "outputId": "be291066-f86e-4141-f415-6575951a372b"
      },
      "execution_count": 7,
      "outputs": [
        {
          "output_type": "error",
          "ename": "UnicodeDecodeError",
          "evalue": "'utf-8' codec can't decode byte 0xb9 in position 0: invalid start byte",
          "traceback": [
            "\u001b[0;31m---------------------------------------------------------------------------\u001b[0m",
            "\u001b[0;31mUnicodeDecodeError\u001b[0m                        Traceback (most recent call last)",
            "\u001b[0;32m<ipython-input-7-8ccda7bd1ec6>\u001b[0m in \u001b[0;36m<cell line: 0>\u001b[0;34m()\u001b[0m\n\u001b[1;32m      1\u001b[0m \u001b[0;32mwith\u001b[0m \u001b[0mopen\u001b[0m\u001b[0;34m(\u001b[0m\u001b[0;34m'남산도서관 장서 대출목록 (2021년 04월).csv'\u001b[0m\u001b[0;34m)\u001b[0m \u001b[0;32mas\u001b[0m \u001b[0mf\u001b[0m\u001b[0;34m:\u001b[0m\u001b[0;34m\u001b[0m\u001b[0;34m\u001b[0m\u001b[0m\n\u001b[0;32m----> 2\u001b[0;31m   \u001b[0mprint\u001b[0m\u001b[0;34m(\u001b[0m\u001b[0mf\u001b[0m\u001b[0;34m.\u001b[0m\u001b[0mreadline\u001b[0m\u001b[0;34m(\u001b[0m\u001b[0;34m)\u001b[0m\u001b[0;34m)\u001b[0m\u001b[0;34m\u001b[0m\u001b[0;34m\u001b[0m\u001b[0m\n\u001b[0m",
            "\u001b[0;32m/usr/lib/python3.11/codecs.py\u001b[0m in \u001b[0;36mdecode\u001b[0;34m(self, input, final)\u001b[0m\n",
            "\u001b[0;31mUnicodeDecodeError\u001b[0m: 'utf-8' codec can't decode byte 0xb9 in position 0: invalid start byte"
          ]
        }
      ]
    },
    {
      "cell_type": "markdown",
      "source": [
        "### **(1) 파일 인코딩 형식 확인하기 : chardet.detect() 함수**"
      ],
      "metadata": {
        "id": "6P6KWkEQ_qvD"
      }
    },
    {
      "cell_type": "code",
      "source": [
        "import chardet\n",
        "with open('남산도서관 장서 대출목록 (2021년 04월).csv', mode='rb') as f:\n",
        "  d = f.readline()\n",
        "print(chardet.detect(d))"
      ],
      "metadata": {
        "colab": {
          "base_uri": "https://localhost:8080/"
        },
        "id": "JOyytCDM_54s",
        "outputId": "ca3e17c4-0dcf-49ea-c481-3ace8910158f"
      },
      "execution_count": 9,
      "outputs": [
        {
          "output_type": "stream",
          "name": "stdout",
          "text": [
            "{'encoding': 'EUC-KR', 'confidence': 0.99, 'language': 'Korean'}\n"
          ]
        }
      ]
    },
    {
      "cell_type": "markdown",
      "source": [
        "### **(2) 인코딩 형식 지정하기**"
      ],
      "metadata": {
        "id": "F1rizwcbBcLU"
      }
    },
    {
      "cell_type": "code",
      "source": [
        "with open('남산도서관 장서 대출목록 (2021년 04월).csv', encoding =  'EUC-KR') as f:\n",
        "  print(f.readline())\n",
        "  print(f.readline())"
      ],
      "metadata": {
        "colab": {
          "base_uri": "https://localhost:8080/"
        },
        "id": "0lu5XSaYBbyX",
        "outputId": "d74bf2fb-a606-4829-f577-2f5c3ea05d78"
      },
      "execution_count": 11,
      "outputs": [
        {
          "output_type": "stream",
          "name": "stdout",
          "text": [
            "번호,도서명,저자,출판사,발행년도,ISBN,세트 ISBN,부가기호,권,주제분류번호,도서권수,대출건수,등록일자,\n",
            "\n",
            "\"1\",\"인공지능과 흙\",\"김동훈 지음\",\"민음사\",\"2021\",\"9788937444319\",\"\",\"\",\"\",\"\",\"1\",\"0\",\"2021-03-19\",\n",
            "\n"
          ]
        }
      ]
    },
    {
      "cell_type": "markdown",
      "source": [
        "## **데이터프레임 다루기 : 판다스**\n",
        "\n",
        "\n",
        "* **판다스**는 파이썬으로 데이터를 분석할 때 빼놓을 수 없는 아주 유명한 파이썬 패키지.\n",
        "* CSV 파일을 읽어 **데이터프레임** 이라는 표 형식 데이터로 저장\n",
        "* 표 형식 데이터는 **행**과 **열**로 구성된 데이터 구조입니다.\n",
        "* 판다스에는 데이터프레임 외에 **시리즈** 라는 데이터 구조도 있습니다.\n",
        "* 같은 종류의 데이터가 순서대로 나열된 데이터 구조인 **배열**도 있습니다.\n",
        "* 데이터프레임은 열마다 다른 **데이터 타입**을 사용할 수 있습니다."
      ],
      "metadata": {
        "id": "4Xkfa8S1GaOZ"
      }
    },
    {
      "cell_type": "markdown",
      "source": [
        "### **(1) CSV 파일을 데이터프레임으로 읽기 : read_csv() 함수**\n",
        "read_table() 함수도 사용가능."
      ],
      "metadata": {
        "id": "gAbBSk-yHkVr"
      }
    },
    {
      "cell_type": "code",
      "source": [
        "import pandas as pd\n",
        "df = pd.read_csv('남산도서관 장서 대출목록 (2021년 04월).csv', encoding='EUC-KR')"
      ],
      "metadata": {
        "colab": {
          "base_uri": "https://localhost:8080/"
        },
        "id": "fG_EzYvBHjyp",
        "outputId": "9f756101-5ba8-4e40-f5d6-07d7c7929f71"
      },
      "execution_count": 14,
      "outputs": [
        {
          "output_type": "stream",
          "name": "stderr",
          "text": [
            "<ipython-input-14-d8edc83c8263>:2: DtypeWarning: Columns (5,6,9) have mixed types. Specify dtype option on import or set low_memory=False.\n",
            "  df = pd.read_csv('남산도서관 장서 대출목록 (2021년 04월).csv', encoding='EUC-KR')\n"
          ]
        }
      ]
    },
    {
      "cell_type": "code",
      "source": [
        "# ISBN, 세트ISBN, 주제분류번호 에 해당하는 5,6,9열 때문에 오류 발생\n",
        "# low_memory 매개변수를 Fasle로 지정하여 파일을 나누어 읽지 않고 한번에 읽도록 함.\n",
        "df = pd.read_csv('남산도서관 장서 대출목록 (2021년 04월).csv', encoding='EUC-KR', low_memory = False)"
      ],
      "metadata": {
        "id": "LN-OAel3I5PW"
      },
      "execution_count": 15,
      "outputs": []
    },
    {
      "cell_type": "code",
      "source": [
        "# 위에처럼 하지 않고 이렇게도 가능\n",
        "df = pd.read_csv('남산도서관 장서 대출목록 (2021년 04월).csv', encoding='EUC-KR', dtype={'ISBN':str, '세트 ISBN' : str, '주제분류번호':str})"
      ],
      "metadata": {
        "id": "kBFgqDB5PZ4a"
      },
      "execution_count": 18,
      "outputs": []
    },
    {
      "cell_type": "markdown",
      "source": [
        "### **(2) 데이터프레임을 CSV 파일로 저장하기 : to_csv() 메서드**\n",
        "to_csv() 메서드는 기본적으로 UTF-8 형식으로 저장."
      ],
      "metadata": {
        "id": "11zG4aFjKebN"
      }
    },
    {
      "cell_type": "code",
      "source": [
        "df.to_csv('ns_202104.csv')"
      ],
      "metadata": {
        "id": "lr-bhPcJK0JE"
      },
      "execution_count": 16,
      "outputs": []
    },
    {
      "cell_type": "code",
      "source": [
        "# 저장시 index = False 로 지정하면 인덱스를  빼고 저장\n",
        "df.to_csv('ns_202104.csv', index=False)\n",
        "\n",
        "# 엑셀로도 저장 가능\n",
        "df.to_excel('ns_202104.xlsx', index=False)"
      ],
      "metadata": {
        "id": "K4eDFvjeQ8sL"
      },
      "execution_count": null,
      "outputs": []
    },
    {
      "cell_type": "code",
      "source": [
        "with open('ns_202104.csv') as f:\n",
        "  for i in range(3):\n",
        "    print(f.readline(), end='')"
      ],
      "metadata": {
        "colab": {
          "base_uri": "https://localhost:8080/"
        },
        "id": "IEaeIun0QLzy",
        "outputId": "f5eeaa6e-0d60-465d-a5dd-207f5097b3c9"
      },
      "execution_count": 19,
      "outputs": [
        {
          "output_type": "stream",
          "name": "stdout",
          "text": [
            ",번호,도서명,저자,출판사,발행년도,ISBN,세트 ISBN,부가기호,권,주제분류번호,도서권수,대출건수,등록일자,Unnamed: 13\n",
            "0,1,인공지능과 흙,김동훈 지음,민음사,2021,9788937444319,,,,,1,0,2021-03-19,\n",
            "1,2,가짜 행복 권하는 사회,김태형 지음,갈매나무,2021,9791190123969,,,,,1,0,2021-03-19,\n"
          ]
        }
      ]
    },
    {
      "cell_type": "code",
      "source": [
        "ns_df = pd.read_csv('ns_202104.csv', low_memory = False)\n",
        "ns_df.head(5)"
      ],
      "metadata": {
        "colab": {
          "base_uri": "https://localhost:8080/",
          "height": 362
        },
        "id": "FWr5cCpPLRqp",
        "outputId": "465c6c98-7657-44a5-97ec-a6c29e480463"
      },
      "execution_count": 20,
      "outputs": [
        {
          "output_type": "execute_result",
          "data": {
            "text/plain": [
              "   Unnamed: 0  번호                    도서명                저자    출판사  발행년도  \\\n",
              "0           0   1                인공지능과 흙            김동훈 지음    민음사  2021   \n",
              "1           1   2           가짜 행복 권하는 사회            김태형 지음   갈매나무  2021   \n",
              "2           2   3  나도 한 문장 잘 쓰면 바랄 게 없겠네            김선영 지음   블랙피쉬  2021   \n",
              "3           3   4                예루살렘 해변  이도 게펜 지음, 임재희 옮김  문학세계사  2021   \n",
              "4           4   5  김성곤의 중국한시기행 : 장강·황하 편            김성곤 지음    김영사  2021   \n",
              "\n",
              "            ISBN 세트 ISBN 부가기호    권 주제분류번호  도서권수  대출건수        등록일자  Unnamed: 13  \n",
              "0  9788937444319     NaN  NaN  NaN    NaN     1     0  2021-03-19          NaN  \n",
              "1  9791190123969     NaN  NaN  NaN    NaN     1     0  2021-03-19          NaN  \n",
              "2  9788968332982     NaN  NaN  NaN    NaN     1     0  2021-03-19          NaN  \n",
              "3  9788970759906     NaN  NaN  NaN    NaN     1     0  2021-03-19          NaN  \n",
              "4  9788934990833     NaN  NaN  NaN    NaN     1     0  2021-03-19          NaN  "
            ],
            "text/html": [
              "\n",
              "  <div id=\"df-cf5468d1-ec97-4be6-89ee-ac9e8faea89f\" class=\"colab-df-container\">\n",
              "    <div>\n",
              "<style scoped>\n",
              "    .dataframe tbody tr th:only-of-type {\n",
              "        vertical-align: middle;\n",
              "    }\n",
              "\n",
              "    .dataframe tbody tr th {\n",
              "        vertical-align: top;\n",
              "    }\n",
              "\n",
              "    .dataframe thead th {\n",
              "        text-align: right;\n",
              "    }\n",
              "</style>\n",
              "<table border=\"1\" class=\"dataframe\">\n",
              "  <thead>\n",
              "    <tr style=\"text-align: right;\">\n",
              "      <th></th>\n",
              "      <th>Unnamed: 0</th>\n",
              "      <th>번호</th>\n",
              "      <th>도서명</th>\n",
              "      <th>저자</th>\n",
              "      <th>출판사</th>\n",
              "      <th>발행년도</th>\n",
              "      <th>ISBN</th>\n",
              "      <th>세트 ISBN</th>\n",
              "      <th>부가기호</th>\n",
              "      <th>권</th>\n",
              "      <th>주제분류번호</th>\n",
              "      <th>도서권수</th>\n",
              "      <th>대출건수</th>\n",
              "      <th>등록일자</th>\n",
              "      <th>Unnamed: 13</th>\n",
              "    </tr>\n",
              "  </thead>\n",
              "  <tbody>\n",
              "    <tr>\n",
              "      <th>0</th>\n",
              "      <td>0</td>\n",
              "      <td>1</td>\n",
              "      <td>인공지능과 흙</td>\n",
              "      <td>김동훈 지음</td>\n",
              "      <td>민음사</td>\n",
              "      <td>2021</td>\n",
              "      <td>9788937444319</td>\n",
              "      <td>NaN</td>\n",
              "      <td>NaN</td>\n",
              "      <td>NaN</td>\n",
              "      <td>NaN</td>\n",
              "      <td>1</td>\n",
              "      <td>0</td>\n",
              "      <td>2021-03-19</td>\n",
              "      <td>NaN</td>\n",
              "    </tr>\n",
              "    <tr>\n",
              "      <th>1</th>\n",
              "      <td>1</td>\n",
              "      <td>2</td>\n",
              "      <td>가짜 행복 권하는 사회</td>\n",
              "      <td>김태형 지음</td>\n",
              "      <td>갈매나무</td>\n",
              "      <td>2021</td>\n",
              "      <td>9791190123969</td>\n",
              "      <td>NaN</td>\n",
              "      <td>NaN</td>\n",
              "      <td>NaN</td>\n",
              "      <td>NaN</td>\n",
              "      <td>1</td>\n",
              "      <td>0</td>\n",
              "      <td>2021-03-19</td>\n",
              "      <td>NaN</td>\n",
              "    </tr>\n",
              "    <tr>\n",
              "      <th>2</th>\n",
              "      <td>2</td>\n",
              "      <td>3</td>\n",
              "      <td>나도 한 문장 잘 쓰면 바랄 게 없겠네</td>\n",
              "      <td>김선영 지음</td>\n",
              "      <td>블랙피쉬</td>\n",
              "      <td>2021</td>\n",
              "      <td>9788968332982</td>\n",
              "      <td>NaN</td>\n",
              "      <td>NaN</td>\n",
              "      <td>NaN</td>\n",
              "      <td>NaN</td>\n",
              "      <td>1</td>\n",
              "      <td>0</td>\n",
              "      <td>2021-03-19</td>\n",
              "      <td>NaN</td>\n",
              "    </tr>\n",
              "    <tr>\n",
              "      <th>3</th>\n",
              "      <td>3</td>\n",
              "      <td>4</td>\n",
              "      <td>예루살렘 해변</td>\n",
              "      <td>이도 게펜 지음, 임재희 옮김</td>\n",
              "      <td>문학세계사</td>\n",
              "      <td>2021</td>\n",
              "      <td>9788970759906</td>\n",
              "      <td>NaN</td>\n",
              "      <td>NaN</td>\n",
              "      <td>NaN</td>\n",
              "      <td>NaN</td>\n",
              "      <td>1</td>\n",
              "      <td>0</td>\n",
              "      <td>2021-03-19</td>\n",
              "      <td>NaN</td>\n",
              "    </tr>\n",
              "    <tr>\n",
              "      <th>4</th>\n",
              "      <td>4</td>\n",
              "      <td>5</td>\n",
              "      <td>김성곤의 중국한시기행 : 장강·황하 편</td>\n",
              "      <td>김성곤 지음</td>\n",
              "      <td>김영사</td>\n",
              "      <td>2021</td>\n",
              "      <td>9788934990833</td>\n",
              "      <td>NaN</td>\n",
              "      <td>NaN</td>\n",
              "      <td>NaN</td>\n",
              "      <td>NaN</td>\n",
              "      <td>1</td>\n",
              "      <td>0</td>\n",
              "      <td>2021-03-19</td>\n",
              "      <td>NaN</td>\n",
              "    </tr>\n",
              "  </tbody>\n",
              "</table>\n",
              "</div>\n",
              "    <div class=\"colab-df-buttons\">\n",
              "\n",
              "  <div class=\"colab-df-container\">\n",
              "    <button class=\"colab-df-convert\" onclick=\"convertToInteractive('df-cf5468d1-ec97-4be6-89ee-ac9e8faea89f')\"\n",
              "            title=\"Convert this dataframe to an interactive table.\"\n",
              "            style=\"display:none;\">\n",
              "\n",
              "  <svg xmlns=\"http://www.w3.org/2000/svg\" height=\"24px\" viewBox=\"0 -960 960 960\">\n",
              "    <path d=\"M120-120v-720h720v720H120Zm60-500h600v-160H180v160Zm220 220h160v-160H400v160Zm0 220h160v-160H400v160ZM180-400h160v-160H180v160Zm440 0h160v-160H620v160ZM180-180h160v-160H180v160Zm440 0h160v-160H620v160Z\"/>\n",
              "  </svg>\n",
              "    </button>\n",
              "\n",
              "  <style>\n",
              "    .colab-df-container {\n",
              "      display:flex;\n",
              "      gap: 12px;\n",
              "    }\n",
              "\n",
              "    .colab-df-convert {\n",
              "      background-color: #E8F0FE;\n",
              "      border: none;\n",
              "      border-radius: 50%;\n",
              "      cursor: pointer;\n",
              "      display: none;\n",
              "      fill: #1967D2;\n",
              "      height: 32px;\n",
              "      padding: 0 0 0 0;\n",
              "      width: 32px;\n",
              "    }\n",
              "\n",
              "    .colab-df-convert:hover {\n",
              "      background-color: #E2EBFA;\n",
              "      box-shadow: 0px 1px 2px rgba(60, 64, 67, 0.3), 0px 1px 3px 1px rgba(60, 64, 67, 0.15);\n",
              "      fill: #174EA6;\n",
              "    }\n",
              "\n",
              "    .colab-df-buttons div {\n",
              "      margin-bottom: 4px;\n",
              "    }\n",
              "\n",
              "    [theme=dark] .colab-df-convert {\n",
              "      background-color: #3B4455;\n",
              "      fill: #D2E3FC;\n",
              "    }\n",
              "\n",
              "    [theme=dark] .colab-df-convert:hover {\n",
              "      background-color: #434B5C;\n",
              "      box-shadow: 0px 1px 3px 1px rgba(0, 0, 0, 0.15);\n",
              "      filter: drop-shadow(0px 1px 2px rgba(0, 0, 0, 0.3));\n",
              "      fill: #FFFFFF;\n",
              "    }\n",
              "  </style>\n",
              "\n",
              "    <script>\n",
              "      const buttonEl =\n",
              "        document.querySelector('#df-cf5468d1-ec97-4be6-89ee-ac9e8faea89f button.colab-df-convert');\n",
              "      buttonEl.style.display =\n",
              "        google.colab.kernel.accessAllowed ? 'block' : 'none';\n",
              "\n",
              "      async function convertToInteractive(key) {\n",
              "        const element = document.querySelector('#df-cf5468d1-ec97-4be6-89ee-ac9e8faea89f');\n",
              "        const dataTable =\n",
              "          await google.colab.kernel.invokeFunction('convertToInteractive',\n",
              "                                                    [key], {});\n",
              "        if (!dataTable) return;\n",
              "\n",
              "        const docLinkHtml = 'Like what you see? Visit the ' +\n",
              "          '<a target=\"_blank\" href=https://colab.research.google.com/notebooks/data_table.ipynb>data table notebook</a>'\n",
              "          + ' to learn more about interactive tables.';\n",
              "        element.innerHTML = '';\n",
              "        dataTable['output_type'] = 'display_data';\n",
              "        await google.colab.output.renderOutput(dataTable, element);\n",
              "        const docLink = document.createElement('div');\n",
              "        docLink.innerHTML = docLinkHtml;\n",
              "        element.appendChild(docLink);\n",
              "      }\n",
              "    </script>\n",
              "  </div>\n",
              "\n",
              "\n",
              "<div id=\"df-8cec059d-c67c-4a22-bdb8-eb288cd7b0c0\">\n",
              "  <button class=\"colab-df-quickchart\" onclick=\"quickchart('df-8cec059d-c67c-4a22-bdb8-eb288cd7b0c0')\"\n",
              "            title=\"Suggest charts\"\n",
              "            style=\"display:none;\">\n",
              "\n",
              "<svg xmlns=\"http://www.w3.org/2000/svg\" height=\"24px\"viewBox=\"0 0 24 24\"\n",
              "     width=\"24px\">\n",
              "    <g>\n",
              "        <path d=\"M19 3H5c-1.1 0-2 .9-2 2v14c0 1.1.9 2 2 2h14c1.1 0 2-.9 2-2V5c0-1.1-.9-2-2-2zM9 17H7v-7h2v7zm4 0h-2V7h2v10zm4 0h-2v-4h2v4z\"/>\n",
              "    </g>\n",
              "</svg>\n",
              "  </button>\n",
              "\n",
              "<style>\n",
              "  .colab-df-quickchart {\n",
              "      --bg-color: #E8F0FE;\n",
              "      --fill-color: #1967D2;\n",
              "      --hover-bg-color: #E2EBFA;\n",
              "      --hover-fill-color: #174EA6;\n",
              "      --disabled-fill-color: #AAA;\n",
              "      --disabled-bg-color: #DDD;\n",
              "  }\n",
              "\n",
              "  [theme=dark] .colab-df-quickchart {\n",
              "      --bg-color: #3B4455;\n",
              "      --fill-color: #D2E3FC;\n",
              "      --hover-bg-color: #434B5C;\n",
              "      --hover-fill-color: #FFFFFF;\n",
              "      --disabled-bg-color: #3B4455;\n",
              "      --disabled-fill-color: #666;\n",
              "  }\n",
              "\n",
              "  .colab-df-quickchart {\n",
              "    background-color: var(--bg-color);\n",
              "    border: none;\n",
              "    border-radius: 50%;\n",
              "    cursor: pointer;\n",
              "    display: none;\n",
              "    fill: var(--fill-color);\n",
              "    height: 32px;\n",
              "    padding: 0;\n",
              "    width: 32px;\n",
              "  }\n",
              "\n",
              "  .colab-df-quickchart:hover {\n",
              "    background-color: var(--hover-bg-color);\n",
              "    box-shadow: 0 1px 2px rgba(60, 64, 67, 0.3), 0 1px 3px 1px rgba(60, 64, 67, 0.15);\n",
              "    fill: var(--button-hover-fill-color);\n",
              "  }\n",
              "\n",
              "  .colab-df-quickchart-complete:disabled,\n",
              "  .colab-df-quickchart-complete:disabled:hover {\n",
              "    background-color: var(--disabled-bg-color);\n",
              "    fill: var(--disabled-fill-color);\n",
              "    box-shadow: none;\n",
              "  }\n",
              "\n",
              "  .colab-df-spinner {\n",
              "    border: 2px solid var(--fill-color);\n",
              "    border-color: transparent;\n",
              "    border-bottom-color: var(--fill-color);\n",
              "    animation:\n",
              "      spin 1s steps(1) infinite;\n",
              "  }\n",
              "\n",
              "  @keyframes spin {\n",
              "    0% {\n",
              "      border-color: transparent;\n",
              "      border-bottom-color: var(--fill-color);\n",
              "      border-left-color: var(--fill-color);\n",
              "    }\n",
              "    20% {\n",
              "      border-color: transparent;\n",
              "      border-left-color: var(--fill-color);\n",
              "      border-top-color: var(--fill-color);\n",
              "    }\n",
              "    30% {\n",
              "      border-color: transparent;\n",
              "      border-left-color: var(--fill-color);\n",
              "      border-top-color: var(--fill-color);\n",
              "      border-right-color: var(--fill-color);\n",
              "    }\n",
              "    40% {\n",
              "      border-color: transparent;\n",
              "      border-right-color: var(--fill-color);\n",
              "      border-top-color: var(--fill-color);\n",
              "    }\n",
              "    60% {\n",
              "      border-color: transparent;\n",
              "      border-right-color: var(--fill-color);\n",
              "    }\n",
              "    80% {\n",
              "      border-color: transparent;\n",
              "      border-right-color: var(--fill-color);\n",
              "      border-bottom-color: var(--fill-color);\n",
              "    }\n",
              "    90% {\n",
              "      border-color: transparent;\n",
              "      border-bottom-color: var(--fill-color);\n",
              "    }\n",
              "  }\n",
              "</style>\n",
              "\n",
              "  <script>\n",
              "    async function quickchart(key) {\n",
              "      const quickchartButtonEl =\n",
              "        document.querySelector('#' + key + ' button');\n",
              "      quickchartButtonEl.disabled = true;  // To prevent multiple clicks.\n",
              "      quickchartButtonEl.classList.add('colab-df-spinner');\n",
              "      try {\n",
              "        const charts = await google.colab.kernel.invokeFunction(\n",
              "            'suggestCharts', [key], {});\n",
              "      } catch (error) {\n",
              "        console.error('Error during call to suggestCharts:', error);\n",
              "      }\n",
              "      quickchartButtonEl.classList.remove('colab-df-spinner');\n",
              "      quickchartButtonEl.classList.add('colab-df-quickchart-complete');\n",
              "    }\n",
              "    (() => {\n",
              "      let quickchartButtonEl =\n",
              "        document.querySelector('#df-8cec059d-c67c-4a22-bdb8-eb288cd7b0c0 button');\n",
              "      quickchartButtonEl.style.display =\n",
              "        google.colab.kernel.accessAllowed ? 'block' : 'none';\n",
              "    })();\n",
              "  </script>\n",
              "</div>\n",
              "\n",
              "    </div>\n",
              "  </div>\n"
            ],
            "application/vnd.google.colaboratory.intrinsic+json": {
              "type": "dataframe",
              "variable_name": "ns_df"
            }
          },
          "metadata": {},
          "execution_count": 20
        }
      ]
    },
    {
      "cell_type": "code",
      "source": [
        "ns_df = pd.read_csv('ns_202104.csv', index_col = 0,low_memory = False)\n",
        "ns_df.head(5)"
      ],
      "metadata": {
        "colab": {
          "base_uri": "https://localhost:8080/",
          "height": 345
        },
        "id": "11SZ_rx3L0GX",
        "outputId": "e0cc0cff-f215-4d2a-dd4d-af98a5951883"
      },
      "execution_count": 21,
      "outputs": [
        {
          "output_type": "execute_result",
          "data": {
            "text/plain": [
              "   번호                    도서명                저자    출판사  발행년도           ISBN  \\\n",
              "0   1                인공지능과 흙            김동훈 지음    민음사  2021  9788937444319   \n",
              "1   2           가짜 행복 권하는 사회            김태형 지음   갈매나무  2021  9791190123969   \n",
              "2   3  나도 한 문장 잘 쓰면 바랄 게 없겠네            김선영 지음   블랙피쉬  2021  9788968332982   \n",
              "3   4                예루살렘 해변  이도 게펜 지음, 임재희 옮김  문학세계사  2021  9788970759906   \n",
              "4   5  김성곤의 중국한시기행 : 장강·황하 편            김성곤 지음    김영사  2021  9788934990833   \n",
              "\n",
              "  세트 ISBN 부가기호    권 주제분류번호  도서권수  대출건수        등록일자  Unnamed: 13  \n",
              "0     NaN  NaN  NaN    NaN     1     0  2021-03-19          NaN  \n",
              "1     NaN  NaN  NaN    NaN     1     0  2021-03-19          NaN  \n",
              "2     NaN  NaN  NaN    NaN     1     0  2021-03-19          NaN  \n",
              "3     NaN  NaN  NaN    NaN     1     0  2021-03-19          NaN  \n",
              "4     NaN  NaN  NaN    NaN     1     0  2021-03-19          NaN  "
            ],
            "text/html": [
              "\n",
              "  <div id=\"df-f152628c-4b70-4e11-ba74-97eb8beff4a6\" class=\"colab-df-container\">\n",
              "    <div>\n",
              "<style scoped>\n",
              "    .dataframe tbody tr th:only-of-type {\n",
              "        vertical-align: middle;\n",
              "    }\n",
              "\n",
              "    .dataframe tbody tr th {\n",
              "        vertical-align: top;\n",
              "    }\n",
              "\n",
              "    .dataframe thead th {\n",
              "        text-align: right;\n",
              "    }\n",
              "</style>\n",
              "<table border=\"1\" class=\"dataframe\">\n",
              "  <thead>\n",
              "    <tr style=\"text-align: right;\">\n",
              "      <th></th>\n",
              "      <th>번호</th>\n",
              "      <th>도서명</th>\n",
              "      <th>저자</th>\n",
              "      <th>출판사</th>\n",
              "      <th>발행년도</th>\n",
              "      <th>ISBN</th>\n",
              "      <th>세트 ISBN</th>\n",
              "      <th>부가기호</th>\n",
              "      <th>권</th>\n",
              "      <th>주제분류번호</th>\n",
              "      <th>도서권수</th>\n",
              "      <th>대출건수</th>\n",
              "      <th>등록일자</th>\n",
              "      <th>Unnamed: 13</th>\n",
              "    </tr>\n",
              "  </thead>\n",
              "  <tbody>\n",
              "    <tr>\n",
              "      <th>0</th>\n",
              "      <td>1</td>\n",
              "      <td>인공지능과 흙</td>\n",
              "      <td>김동훈 지음</td>\n",
              "      <td>민음사</td>\n",
              "      <td>2021</td>\n",
              "      <td>9788937444319</td>\n",
              "      <td>NaN</td>\n",
              "      <td>NaN</td>\n",
              "      <td>NaN</td>\n",
              "      <td>NaN</td>\n",
              "      <td>1</td>\n",
              "      <td>0</td>\n",
              "      <td>2021-03-19</td>\n",
              "      <td>NaN</td>\n",
              "    </tr>\n",
              "    <tr>\n",
              "      <th>1</th>\n",
              "      <td>2</td>\n",
              "      <td>가짜 행복 권하는 사회</td>\n",
              "      <td>김태형 지음</td>\n",
              "      <td>갈매나무</td>\n",
              "      <td>2021</td>\n",
              "      <td>9791190123969</td>\n",
              "      <td>NaN</td>\n",
              "      <td>NaN</td>\n",
              "      <td>NaN</td>\n",
              "      <td>NaN</td>\n",
              "      <td>1</td>\n",
              "      <td>0</td>\n",
              "      <td>2021-03-19</td>\n",
              "      <td>NaN</td>\n",
              "    </tr>\n",
              "    <tr>\n",
              "      <th>2</th>\n",
              "      <td>3</td>\n",
              "      <td>나도 한 문장 잘 쓰면 바랄 게 없겠네</td>\n",
              "      <td>김선영 지음</td>\n",
              "      <td>블랙피쉬</td>\n",
              "      <td>2021</td>\n",
              "      <td>9788968332982</td>\n",
              "      <td>NaN</td>\n",
              "      <td>NaN</td>\n",
              "      <td>NaN</td>\n",
              "      <td>NaN</td>\n",
              "      <td>1</td>\n",
              "      <td>0</td>\n",
              "      <td>2021-03-19</td>\n",
              "      <td>NaN</td>\n",
              "    </tr>\n",
              "    <tr>\n",
              "      <th>3</th>\n",
              "      <td>4</td>\n",
              "      <td>예루살렘 해변</td>\n",
              "      <td>이도 게펜 지음, 임재희 옮김</td>\n",
              "      <td>문학세계사</td>\n",
              "      <td>2021</td>\n",
              "      <td>9788970759906</td>\n",
              "      <td>NaN</td>\n",
              "      <td>NaN</td>\n",
              "      <td>NaN</td>\n",
              "      <td>NaN</td>\n",
              "      <td>1</td>\n",
              "      <td>0</td>\n",
              "      <td>2021-03-19</td>\n",
              "      <td>NaN</td>\n",
              "    </tr>\n",
              "    <tr>\n",
              "      <th>4</th>\n",
              "      <td>5</td>\n",
              "      <td>김성곤의 중국한시기행 : 장강·황하 편</td>\n",
              "      <td>김성곤 지음</td>\n",
              "      <td>김영사</td>\n",
              "      <td>2021</td>\n",
              "      <td>9788934990833</td>\n",
              "      <td>NaN</td>\n",
              "      <td>NaN</td>\n",
              "      <td>NaN</td>\n",
              "      <td>NaN</td>\n",
              "      <td>1</td>\n",
              "      <td>0</td>\n",
              "      <td>2021-03-19</td>\n",
              "      <td>NaN</td>\n",
              "    </tr>\n",
              "  </tbody>\n",
              "</table>\n",
              "</div>\n",
              "    <div class=\"colab-df-buttons\">\n",
              "\n",
              "  <div class=\"colab-df-container\">\n",
              "    <button class=\"colab-df-convert\" onclick=\"convertToInteractive('df-f152628c-4b70-4e11-ba74-97eb8beff4a6')\"\n",
              "            title=\"Convert this dataframe to an interactive table.\"\n",
              "            style=\"display:none;\">\n",
              "\n",
              "  <svg xmlns=\"http://www.w3.org/2000/svg\" height=\"24px\" viewBox=\"0 -960 960 960\">\n",
              "    <path d=\"M120-120v-720h720v720H120Zm60-500h600v-160H180v160Zm220 220h160v-160H400v160Zm0 220h160v-160H400v160ZM180-400h160v-160H180v160Zm440 0h160v-160H620v160ZM180-180h160v-160H180v160Zm440 0h160v-160H620v160Z\"/>\n",
              "  </svg>\n",
              "    </button>\n",
              "\n",
              "  <style>\n",
              "    .colab-df-container {\n",
              "      display:flex;\n",
              "      gap: 12px;\n",
              "    }\n",
              "\n",
              "    .colab-df-convert {\n",
              "      background-color: #E8F0FE;\n",
              "      border: none;\n",
              "      border-radius: 50%;\n",
              "      cursor: pointer;\n",
              "      display: none;\n",
              "      fill: #1967D2;\n",
              "      height: 32px;\n",
              "      padding: 0 0 0 0;\n",
              "      width: 32px;\n",
              "    }\n",
              "\n",
              "    .colab-df-convert:hover {\n",
              "      background-color: #E2EBFA;\n",
              "      box-shadow: 0px 1px 2px rgba(60, 64, 67, 0.3), 0px 1px 3px 1px rgba(60, 64, 67, 0.15);\n",
              "      fill: #174EA6;\n",
              "    }\n",
              "\n",
              "    .colab-df-buttons div {\n",
              "      margin-bottom: 4px;\n",
              "    }\n",
              "\n",
              "    [theme=dark] .colab-df-convert {\n",
              "      background-color: #3B4455;\n",
              "      fill: #D2E3FC;\n",
              "    }\n",
              "\n",
              "    [theme=dark] .colab-df-convert:hover {\n",
              "      background-color: #434B5C;\n",
              "      box-shadow: 0px 1px 3px 1px rgba(0, 0, 0, 0.15);\n",
              "      filter: drop-shadow(0px 1px 2px rgba(0, 0, 0, 0.3));\n",
              "      fill: #FFFFFF;\n",
              "    }\n",
              "  </style>\n",
              "\n",
              "    <script>\n",
              "      const buttonEl =\n",
              "        document.querySelector('#df-f152628c-4b70-4e11-ba74-97eb8beff4a6 button.colab-df-convert');\n",
              "      buttonEl.style.display =\n",
              "        google.colab.kernel.accessAllowed ? 'block' : 'none';\n",
              "\n",
              "      async function convertToInteractive(key) {\n",
              "        const element = document.querySelector('#df-f152628c-4b70-4e11-ba74-97eb8beff4a6');\n",
              "        const dataTable =\n",
              "          await google.colab.kernel.invokeFunction('convertToInteractive',\n",
              "                                                    [key], {});\n",
              "        if (!dataTable) return;\n",
              "\n",
              "        const docLinkHtml = 'Like what you see? Visit the ' +\n",
              "          '<a target=\"_blank\" href=https://colab.research.google.com/notebooks/data_table.ipynb>data table notebook</a>'\n",
              "          + ' to learn more about interactive tables.';\n",
              "        element.innerHTML = '';\n",
              "        dataTable['output_type'] = 'display_data';\n",
              "        await google.colab.output.renderOutput(dataTable, element);\n",
              "        const docLink = document.createElement('div');\n",
              "        docLink.innerHTML = docLinkHtml;\n",
              "        element.appendChild(docLink);\n",
              "      }\n",
              "    </script>\n",
              "  </div>\n",
              "\n",
              "\n",
              "<div id=\"df-34d322c9-cdfc-4611-97a2-868db6edefc0\">\n",
              "  <button class=\"colab-df-quickchart\" onclick=\"quickchart('df-34d322c9-cdfc-4611-97a2-868db6edefc0')\"\n",
              "            title=\"Suggest charts\"\n",
              "            style=\"display:none;\">\n",
              "\n",
              "<svg xmlns=\"http://www.w3.org/2000/svg\" height=\"24px\"viewBox=\"0 0 24 24\"\n",
              "     width=\"24px\">\n",
              "    <g>\n",
              "        <path d=\"M19 3H5c-1.1 0-2 .9-2 2v14c0 1.1.9 2 2 2h14c1.1 0 2-.9 2-2V5c0-1.1-.9-2-2-2zM9 17H7v-7h2v7zm4 0h-2V7h2v10zm4 0h-2v-4h2v4z\"/>\n",
              "    </g>\n",
              "</svg>\n",
              "  </button>\n",
              "\n",
              "<style>\n",
              "  .colab-df-quickchart {\n",
              "      --bg-color: #E8F0FE;\n",
              "      --fill-color: #1967D2;\n",
              "      --hover-bg-color: #E2EBFA;\n",
              "      --hover-fill-color: #174EA6;\n",
              "      --disabled-fill-color: #AAA;\n",
              "      --disabled-bg-color: #DDD;\n",
              "  }\n",
              "\n",
              "  [theme=dark] .colab-df-quickchart {\n",
              "      --bg-color: #3B4455;\n",
              "      --fill-color: #D2E3FC;\n",
              "      --hover-bg-color: #434B5C;\n",
              "      --hover-fill-color: #FFFFFF;\n",
              "      --disabled-bg-color: #3B4455;\n",
              "      --disabled-fill-color: #666;\n",
              "  }\n",
              "\n",
              "  .colab-df-quickchart {\n",
              "    background-color: var(--bg-color);\n",
              "    border: none;\n",
              "    border-radius: 50%;\n",
              "    cursor: pointer;\n",
              "    display: none;\n",
              "    fill: var(--fill-color);\n",
              "    height: 32px;\n",
              "    padding: 0;\n",
              "    width: 32px;\n",
              "  }\n",
              "\n",
              "  .colab-df-quickchart:hover {\n",
              "    background-color: var(--hover-bg-color);\n",
              "    box-shadow: 0 1px 2px rgba(60, 64, 67, 0.3), 0 1px 3px 1px rgba(60, 64, 67, 0.15);\n",
              "    fill: var(--button-hover-fill-color);\n",
              "  }\n",
              "\n",
              "  .colab-df-quickchart-complete:disabled,\n",
              "  .colab-df-quickchart-complete:disabled:hover {\n",
              "    background-color: var(--disabled-bg-color);\n",
              "    fill: var(--disabled-fill-color);\n",
              "    box-shadow: none;\n",
              "  }\n",
              "\n",
              "  .colab-df-spinner {\n",
              "    border: 2px solid var(--fill-color);\n",
              "    border-color: transparent;\n",
              "    border-bottom-color: var(--fill-color);\n",
              "    animation:\n",
              "      spin 1s steps(1) infinite;\n",
              "  }\n",
              "\n",
              "  @keyframes spin {\n",
              "    0% {\n",
              "      border-color: transparent;\n",
              "      border-bottom-color: var(--fill-color);\n",
              "      border-left-color: var(--fill-color);\n",
              "    }\n",
              "    20% {\n",
              "      border-color: transparent;\n",
              "      border-left-color: var(--fill-color);\n",
              "      border-top-color: var(--fill-color);\n",
              "    }\n",
              "    30% {\n",
              "      border-color: transparent;\n",
              "      border-left-color: var(--fill-color);\n",
              "      border-top-color: var(--fill-color);\n",
              "      border-right-color: var(--fill-color);\n",
              "    }\n",
              "    40% {\n",
              "      border-color: transparent;\n",
              "      border-right-color: var(--fill-color);\n",
              "      border-top-color: var(--fill-color);\n",
              "    }\n",
              "    60% {\n",
              "      border-color: transparent;\n",
              "      border-right-color: var(--fill-color);\n",
              "    }\n",
              "    80% {\n",
              "      border-color: transparent;\n",
              "      border-right-color: var(--fill-color);\n",
              "      border-bottom-color: var(--fill-color);\n",
              "    }\n",
              "    90% {\n",
              "      border-color: transparent;\n",
              "      border-bottom-color: var(--fill-color);\n",
              "    }\n",
              "  }\n",
              "</style>\n",
              "\n",
              "  <script>\n",
              "    async function quickchart(key) {\n",
              "      const quickchartButtonEl =\n",
              "        document.querySelector('#' + key + ' button');\n",
              "      quickchartButtonEl.disabled = true;  // To prevent multiple clicks.\n",
              "      quickchartButtonEl.classList.add('colab-df-spinner');\n",
              "      try {\n",
              "        const charts = await google.colab.kernel.invokeFunction(\n",
              "            'suggestCharts', [key], {});\n",
              "      } catch (error) {\n",
              "        console.error('Error during call to suggestCharts:', error);\n",
              "      }\n",
              "      quickchartButtonEl.classList.remove('colab-df-spinner');\n",
              "      quickchartButtonEl.classList.add('colab-df-quickchart-complete');\n",
              "    }\n",
              "    (() => {\n",
              "      let quickchartButtonEl =\n",
              "        document.querySelector('#df-34d322c9-cdfc-4611-97a2-868db6edefc0 button');\n",
              "      quickchartButtonEl.style.display =\n",
              "        google.colab.kernel.accessAllowed ? 'block' : 'none';\n",
              "    })();\n",
              "  </script>\n",
              "</div>\n",
              "\n",
              "    </div>\n",
              "  </div>\n"
            ],
            "application/vnd.google.colaboratory.intrinsic+json": {
              "type": "dataframe",
              "variable_name": "ns_df"
            }
          },
          "metadata": {},
          "execution_count": 21
        }
      ]
    },
    {
      "cell_type": "markdown",
      "source": [
        "## **공개 데이터 세트 대표 사이트와 유명 포럼**\n",
        "\n",
        "국내사이트\n",
        "*   공공데이터포털\n",
        "*   통합데이터 지도\n",
        "*   AI 허브\n",
        "*   국가통계포털\n",
        "\n",
        "해외사이트\n",
        "*   구글 데이터 세트 검색\n",
        "*   캐글 데이터 세트\n",
        "*   위키피디아 머신러닝 데이터 세트\n",
        "*   아마존 웹서비스 오픈 데이터\n",
        "*   UCI 머신러닝 데이터 저장소\n",
        "\n",
        "온라인 포럼\n",
        "*   데이터 분석 커뮤니티\n",
        "*   캐글 코리아\n",
        "*   텐서플로 코리아\n",
        "*   파이토치 코리아\n",
        "*   사이킷런 코리아\n",
        "\n"
      ],
      "metadata": {
        "id": "72qlWnuHRv3G"
      }
    },
    {
      "cell_type": "markdown",
      "source": [
        "## **[ Point ]**\n",
        "\n",
        "* **공개 데이터 세트**는 기업이나 정부 등이 무료로 공개하는 데이터 세트. 누구나 저작원에 상관없이 다운로드하여 데이터 분석이나 제품 개발에 활용할 수 있다.\n",
        "* **CSV** 파일은 콤마(,)로 구분된 텍스트 파일. 한 줄이 하나의 레코드이며, 레코드는 콤마로 구분된 여러 필드 혹은 열로 구성. 데이터가 엑셀처럼 표 형태를 가져야 하기 때문에 레코드에 있는 필드 개수는 모두 동일해야 함.\n",
        "* **판다스**는 표 형식 데이터를 위한 편리한 도구를 다양하게 제공하는 강력한 데이터 분석 패키지. CSV나 엑셀 파일을 읽거나 쓸 수 있으며 데이터 분석을 위한 많은 기능을 제공.\n",
        "* **데이터프레임**은 판다스의 핵심 데이터 구조로 행과 열로 구성됩니다.CSV 파일이나 엑셀 파일로부터 데이터 프레임을 만들 수 있습니다.\n",
        "* **시리즈**는 1차원 배열과 흡사한 판다스의 객체입니다. 시리즈는 한 종류의 데이터만 포함 할 수 있음.\n",
        "\n"
      ],
      "metadata": {
        "id": "rDs2NwSbSscX"
      }
    },
    {
      "cell_type": "markdown",
      "source": [
        "**핵심함수와 메서드**\n",
        "\n",
        "* pandas.read_csv() : CSV 파일을 읽어 데이터프레임을 만듭니다.\n",
        "* DataFrame.head() : 데이터프레임에서 처음 다섯 개의 행을 반환합니다.\n",
        "* DateFrame.to_csv() : 데이터프레임을 csv 파일로 저장합니다.\n",
        "\n",
        "\n",
        "\n"
      ],
      "metadata": {
        "id": "yxkrdTyXUThK"
      }
    }
  ]
}